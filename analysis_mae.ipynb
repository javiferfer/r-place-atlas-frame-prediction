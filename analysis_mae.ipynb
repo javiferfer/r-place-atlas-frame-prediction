{
 "cells": [
  {
   "cell_type": "code",
   "execution_count": 1,
   "metadata": {},
   "outputs": [],
   "source": [
    "import cv2\n",
    "import glob\n",
    "import numpy as np\n",
    "import pandas as pd\n",
    "from scipy import signal\n",
    "import os"
   ]
  },
  {
   "cell_type": "code",
   "execution_count": 2,
   "metadata": {},
   "outputs": [],
   "source": [
    "BLUE_IMG_PATH = 'data/blue/output_thirtysix_timeframes'\n",
    "RED_IMG_PATH = 'data/red/output_thirtysix_timeframes'\n",
    "GREEN_IMG_PATH = 'data/green/output_thirtysix_timeframes'"
   ]
  },
  {
   "cell_type": "markdown",
   "metadata": {},
   "source": [
    "#### Blue"
   ]
  },
  {
   "cell_type": "code",
   "execution_count": 3,
   "metadata": {},
   "outputs": [],
   "source": [
    "files_s = sorted(glob.glob(os.path.join(BLUE_IMG_PATH, '*')))"
   ]
  },
  {
   "cell_type": "code",
   "execution_count": 4,
   "metadata": {},
   "outputs": [
    {
     "name": "stdout",
     "output_type": "stream",
     "text": [
      "['data/blue/output_thirtysix_timeframes/400_frame416_inferFrame417.png', 'data/blue/output_thirtysix_timeframes/400_frame417_inferFrame417.png']\n"
     ]
    },
    {
     "data": {
      "text/plain": [
       "70.45611664210183"
      ]
     },
     "execution_count": 4,
     "metadata": {},
     "output_type": "execute_result"
    }
   ],
   "source": [
    "image_s = []\n",
    "files_subset = files_s[6:8]\n",
    "print(files_subset)\n",
    "for i in range(2):\n",
    "    filename = files_subset[i]\n",
    "    image = cv2.imread(filename)\n",
    "    image = cv2.cvtColor(image, cv2.COLOR_BGR2RGB)\n",
    "    image_s.append(image)\n",
    "image_s = np.array(image_s)\n",
    "\n",
    "(np.abs(image_s[0] - image_s[1])).mean()"
   ]
  },
  {
   "cell_type": "code",
   "execution_count": 5,
   "metadata": {},
   "outputs": [
    {
     "name": "stdout",
     "output_type": "stream",
     "text": [
      "['data/blue/output_thirtysix_timeframes/50_frame416_inferFrame417.png', 'data/blue/output_thirtysix_timeframes/50_frame417_inferFrame417.png']\n"
     ]
    },
    {
     "data": {
      "text/plain": [
       "105.75456624672191"
      ]
     },
     "execution_count": 5,
     "metadata": {},
     "output_type": "execute_result"
    }
   ],
   "source": [
    "image_s = []\n",
    "files_subset = files_s[9:11]\n",
    "print(files_subset)\n",
    "for i in range(2):\n",
    "    filename = files_subset[i]\n",
    "    image = cv2.imread(filename)\n",
    "    image = cv2.cvtColor(image, cv2.COLOR_BGR2RGB)\n",
    "    image_s.append(image)\n",
    "image_s = np.array(image_s)\n",
    "\n",
    "(np.abs(image_s[0] - image_s[1])).mean()"
   ]
  },
  {
   "cell_type": "markdown",
   "metadata": {},
   "source": [
    "#### Red"
   ]
  },
  {
   "cell_type": "code",
   "execution_count": 6,
   "metadata": {},
   "outputs": [],
   "source": [
    "files_s = sorted(glob.glob(os.path.join(RED_IMG_PATH, '*')))"
   ]
  },
  {
   "cell_type": "code",
   "execution_count": 7,
   "metadata": {},
   "outputs": [
    {
     "name": "stdout",
     "output_type": "stream",
     "text": [
      "['data/red/output_thirtysix_timeframes/400_frame416_inferFrame417.png', 'data/red/output_thirtysix_timeframes/400_frame417_inferFrame417.png']\n"
     ]
    },
    {
     "data": {
      "text/plain": [
       "83.16196420897909"
      ]
     },
     "execution_count": 7,
     "metadata": {},
     "output_type": "execute_result"
    }
   ],
   "source": [
    "image_s = []\n",
    "files_subset = files_s[6:8]\n",
    "print(files_subset)\n",
    "for i in range(2):\n",
    "    filename = files_subset[i]\n",
    "    image = cv2.imread(filename)\n",
    "    image = cv2.cvtColor(image, cv2.COLOR_BGR2RGB)\n",
    "    image_s.append(image)\n",
    "image_s = np.array(image_s)\n",
    "\n",
    "(np.abs(image_s[0] - image_s[1])).mean()"
   ]
  },
  {
   "cell_type": "code",
   "execution_count": 8,
   "metadata": {},
   "outputs": [
    {
     "name": "stdout",
     "output_type": "stream",
     "text": [
      "['data/red/output_thirtysix_timeframes/50_frame416_inferFrame417.png', 'data/red/output_thirtysix_timeframes/50_frame417_inferFrame417.png']\n"
     ]
    },
    {
     "data": {
      "text/plain": [
       "121.40311183489223"
      ]
     },
     "execution_count": 8,
     "metadata": {},
     "output_type": "execute_result"
    }
   ],
   "source": [
    "image_s = []\n",
    "files_subset = files_s[9:11]\n",
    "print(files_subset)\n",
    "for i in range(2):\n",
    "    filename = files_subset[i]\n",
    "    image = cv2.imread(filename)\n",
    "    image = cv2.cvtColor(image, cv2.COLOR_BGR2RGB)\n",
    "    image_s.append(image)\n",
    "image_s = np.array(image_s)\n",
    "\n",
    "(np.abs(image_s[0] - image_s[1])).mean()"
   ]
  },
  {
   "cell_type": "markdown",
   "metadata": {},
   "source": [
    "#### Green"
   ]
  },
  {
   "cell_type": "code",
   "execution_count": 9,
   "metadata": {},
   "outputs": [],
   "source": [
    "files_s = sorted(glob.glob(os.path.join(GREEN_IMG_PATH, '*')))"
   ]
  },
  {
   "cell_type": "code",
   "execution_count": 10,
   "metadata": {},
   "outputs": [
    {
     "name": "stdout",
     "output_type": "stream",
     "text": [
      "['data/green/output_thirtysix_timeframes/400_frame416_inferFrame417.png', 'data/green/output_thirtysix_timeframes/400_frame417_inferFrame417.png']\n"
     ]
    },
    {
     "data": {
      "text/plain": [
       "81.79290043011875"
      ]
     },
     "execution_count": 10,
     "metadata": {},
     "output_type": "execute_result"
    }
   ],
   "source": [
    "image_s = []\n",
    "files_subset = files_s[6:8]\n",
    "print(files_subset)\n",
    "for i in range(2):\n",
    "    filename = files_subset[i]\n",
    "    image = cv2.imread(filename)\n",
    "    image = cv2.cvtColor(image, cv2.COLOR_BGR2RGB)\n",
    "    image_s.append(image)\n",
    "image_s = np.array(image_s)\n",
    "\n",
    "(np.abs(image_s[0] - image_s[1])).mean()"
   ]
  },
  {
   "cell_type": "code",
   "execution_count": 11,
   "metadata": {},
   "outputs": [
    {
     "name": "stdout",
     "output_type": "stream",
     "text": [
      "['data/green/output_thirtysix_timeframes/50_frame416_inferFrame417.png', 'data/green/output_thirtysix_timeframes/50_frame417_inferFrame417.png']\n"
     ]
    },
    {
     "data": {
      "text/plain": [
       "75.00684234199862"
      ]
     },
     "execution_count": 11,
     "metadata": {},
     "output_type": "execute_result"
    }
   ],
   "source": [
    "image_s = []\n",
    "files_subset = files_s[9:11]\n",
    "print(files_subset)\n",
    "for i in range(2):\n",
    "    filename = files_subset[i]\n",
    "    image = cv2.imread(filename)\n",
    "    image = cv2.cvtColor(image, cv2.COLOR_BGR2RGB)\n",
    "    image_s.append(image)\n",
    "image_s = np.array(image_s)\n",
    "\n",
    "(np.abs(image_s[0] - image_s[1])).mean()"
   ]
  },
  {
   "cell_type": "code",
   "execution_count": null,
   "metadata": {},
   "outputs": [],
   "source": []
  },
  {
   "cell_type": "code",
   "execution_count": null,
   "metadata": {},
   "outputs": [],
   "source": []
  },
  {
   "cell_type": "code",
   "execution_count": null,
   "metadata": {},
   "outputs": [],
   "source": []
  }
 ],
 "metadata": {
  "kernelspec": {
   "display_name": "Python 3",
   "language": "python",
   "name": "python3"
  },
  "language_info": {
   "codemirror_mode": {
    "name": "ipython",
    "version": 3
   },
   "file_extension": ".py",
   "mimetype": "text/x-python",
   "name": "python",
   "nbconvert_exporter": "python",
   "pygments_lexer": "ipython3",
   "version": "3.8.8"
  },
  "toc": {
   "base_numbering": 1,
   "nav_menu": {},
   "number_sections": true,
   "sideBar": true,
   "skip_h1_title": false,
   "title_cell": "Table of Contents",
   "title_sidebar": "Contents",
   "toc_cell": false,
   "toc_position": {},
   "toc_section_display": true,
   "toc_window_display": false
  }
 },
 "nbformat": 4,
 "nbformat_minor": 4
}
