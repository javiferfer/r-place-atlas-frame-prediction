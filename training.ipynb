{
 "cells": [
  {
   "cell_type": "code",
   "execution_count": 1,
   "metadata": {},
   "outputs": [],
   "source": [
    "import glob\n",
    "import os\n",
    "import cv2\n",
    "import matplotlib.pyplot as plt\n",
    "import numpy as np\n",
    "import pandas as pd\n",
    "from scipy import signal\n",
    "from sklearn.decomposition import PCA\n",
    "from random import randint\n",
    "\n",
    "import torch\n",
    "import torch.nn as nn\n",
    "import torch.nn.functional as F\n",
    "import torchvision\n",
    "\n",
    "%matplotlib inline"
   ]
  },
  {
   "cell_type": "code",
   "execution_count": 2,
   "metadata": {},
   "outputs": [
    {
     "name": "stdout",
     "output_type": "stream",
     "text": [
      "cuda\n"
     ]
    }
   ],
   "source": [
    "device = torch.device('cuda' if torch.cuda.is_available() else 'cpu')\n",
    "print(device)"
   ]
  },
  {
   "cell_type": "code",
   "execution_count": 3,
   "metadata": {},
   "outputs": [],
   "source": [
    "BATCH_SIZE = 32\n",
    "NO_MAX_FRAMES = [50, 100, 200, 400]\n",
    "NO_FRAMES_PREDICTED_AHEAD = [1, 6, 18, 36]\n",
    "SIZE_FRAGMENT = [3]"
   ]
  },
  {
   "cell_type": "markdown",
   "metadata": {},
   "source": [
    "#### Model"
   ]
  },
  {
   "cell_type": "code",
   "execution_count": 4,
   "metadata": {},
   "outputs": [],
   "source": [
    "class CNN(nn.Module):\n",
    "    def __init__(self):\n",
    "        super(CNN, self).__init__()\n",
    "        no_filters = 2048\n",
    "        self.conv1 = nn.Conv2d(1, no_filters, kernel_size=(3, 3))\n",
    "        self.linear1 = nn.Linear(no_filters, 32)\n",
    "        self.linear2 = nn.Linear(32, 1)\n",
    "\n",
    "    def forward(self, x):\n",
    "        x = F.leaky_relu(self.conv1(x))\n",
    "        x = x.view(x.shape[0], -1)\n",
    "        x = self.linear1(x)\n",
    "        x = torch.sigmoid(self.linear2(x))\n",
    "        return x"
   ]
  },
  {
   "cell_type": "markdown",
   "metadata": {},
   "source": [
    "#### Data"
   ]
  },
  {
   "cell_type": "code",
   "execution_count": 5,
   "metadata": {},
   "outputs": [],
   "source": [
    "def train(color, no_frames, no_frames_predicted, size):\n",
    "    train_x = np.load(f'data/frames_cropped/train_x_{color}_noFrames{no_frames}_noFramesPredicedAhead{no_frames_predicted}_size{size}.npy')\n",
    "    train_y = np.load(f'data/frames_cropped/train_y_{color}_noFrames{no_frames}_noFramesPredicedAhead{no_frames_predicted}_size{size}.npy')\n",
    "    test_x = np.load(f'data/frames_cropped/test_x_{color}_noFrames{no_frames}_noFramesPredicedAhead{no_frames_predicted}_size{size}.npy')\n",
    "    test_y = np.load(f'data/frames_cropped/test_y_{color}_noFrames{no_frames}_noFramesPredicedAhead{no_frames_predicted}_size{size}.npy')\n",
    "\n",
    "    x_train = torch.tensor(train_x).float()\n",
    "    y_train = torch.tensor(train_y).float()\n",
    "    x_test = torch.tensor(train_x).float()\n",
    "    y_test = torch.tensor(train_y).float()\n",
    "\n",
    "    train_set = torch.utils.data.TensorDataset(x_train, y_train)\n",
    "    train_loader = torch.utils.data.DataLoader(train_set, batch_size=BATCH_SIZE, shuffle=True)\n",
    "    test_set = torch.utils.data.TensorDataset(x_train, y_train)\n",
    "    test_loader = torch.utils.data.DataLoader(test_set, batch_size=BATCH_SIZE, shuffle=False)\n",
    "    \n",
    "    model = CNN().to(device)\n",
    "    optimizer = torch.optim.Adam(model.parameters(), lr=5e-3)\n",
    "    loss_func = torch.nn.MSELoss()\n",
    "\n",
    "    loss_tr_s, loss_ts_s = [], []\n",
    "    for epoch in range(20):\n",
    "        # Train\n",
    "        model.train()\n",
    "        loss_tr = []\n",
    "        for step, (raw, out) in enumerate(train_loader):        \n",
    "            raw = raw.squeeze(dim=0).to(device)\n",
    "            out = out.squeeze(dim=0).to(device)\n",
    "\n",
    "            p = model(raw).reshape(-1)        \n",
    "\n",
    "            batch_loss = loss_func(out, p)\n",
    "            loss_tr.append(batch_loss.detach().item())\n",
    "            optimizer.zero_grad()\n",
    "            batch_loss.backward()\n",
    "            optimizer.step()\n",
    "        \n",
    "        # Test\n",
    "        model.eval()\n",
    "        loss_ts = []\n",
    "        with torch.no_grad():\n",
    "            for step, (raw, out) in enumerate(test_loader):        \n",
    "                raw = raw.squeeze(dim=0).to(device)\n",
    "                out = out.squeeze(dim=0).to(device)\n",
    "\n",
    "                p = model(raw).reshape(-1)        \n",
    "                batch_loss = loss_func(out, p)\n",
    "                loss_ts.append(batch_loss.detach().item())\n",
    "\n",
    "        loss_tr_s.append(np.mean(loss_tr))\n",
    "        loss_ts_s.append(np.mean(loss_ts))\n",
    "#         plt.plot(loss_tr_s, label='train')\n",
    "#         plt.plot(loss_ts_s, label='test')\n",
    "#         plt.legend()\n",
    "#         plt.show()\n",
    "\n",
    "    print(color, no_frames, no_frames_predicted, size, \n",
    "          round(loss_tr_s[-1], 4), round(loss_ts_s[-1], 4))\n",
    "\n",
    "    torch.save(\n",
    "        model.state_dict(),\n",
    "        f'checkpoints/{color}/model_noFrames{no_frames}_noFramesPredicted{no_frames_predicted}_size{size}.pt'\n",
    "    )"
   ]
  },
  {
   "cell_type": "code",
   "execution_count": 6,
   "metadata": {},
   "outputs": [
    {
     "name": "stdout",
     "output_type": "stream",
     "text": [
      "red 50 1 3 0.0075 0.0074\n",
      "green 50 1 3 0.0081 0.008\n",
      "blue 50 1 3 0.0077 0.0077\n",
      "red 50 6 3 0.0356 0.035\n",
      "green 50 6 3 0.0394 0.0393\n",
      "blue 50 6 3 0.0366 0.0362\n",
      "red 50 18 3 0.0849 0.0861\n",
      "green 50 18 3 0.093 0.0923\n",
      "blue 50 18 3 0.0867 0.0862\n",
      "red 50 36 3 0.1383 0.1384\n",
      "green 50 36 3 0.1471 0.146\n",
      "blue 50 36 3 0.138 0.1372\n",
      "red 100 1 3 0.0055 0.0053\n",
      "green 100 1 3 0.0061 0.006\n",
      "blue 100 1 3 0.006 0.0064\n",
      "red 100 6 3 0.0256 0.0253\n",
      "green 100 6 3 0.0282 0.0282\n",
      "blue 100 6 3 0.0275 0.0283\n",
      "red 100 18 3 0.0581 0.0579\n",
      "green 100 18 3 0.0624 0.0621\n",
      "blue 100 18 3 0.0614 0.0615\n",
      "red 100 36 3 0.0974 0.0968\n",
      "green 100 36 3 0.103 0.1024\n",
      "blue 100 36 3 0.1015 0.1006\n",
      "red 200 1 3 0.0061 0.006\n",
      "green 200 1 3 0.0056 0.0056\n",
      "blue 200 1 3 0.0062 0.0061\n",
      "red 200 6 3 0.0263 0.0264\n",
      "green 200 6 3 0.0254 0.0251\n",
      "blue 200 6 3 0.0264 0.0262\n",
      "red 200 18 3 0.0595 0.0592\n",
      "green 200 18 3 0.0581 0.0579\n",
      "blue 200 18 3 0.0603 0.0596\n",
      "red 200 36 3 0.0925 0.0919\n",
      "green 200 36 3 0.0894 0.0927\n",
      "blue 200 36 3 0.0959 0.0963\n",
      "red 400 1 3 0.0069 0.0069\n",
      "green 400 1 3 0.0058 0.0057\n",
      "blue 400 1 3 0.0062 0.006\n",
      "red 400 6 3 0.0226 0.0225\n",
      "green 400 6 3 0.0215 0.0211\n",
      "blue 400 6 3 0.0234 0.023\n",
      "red 400 18 3 0.0546 0.0539\n",
      "green 400 18 3 0.05 0.0494\n",
      "blue 400 18 3 0.0528 0.0524\n",
      "red 400 36 3 0.0822 0.0818\n",
      "green 400 36 3 0.0743 0.0733\n",
      "blue 400 36 3 0.0815 0.0805\n"
     ]
    }
   ],
   "source": [
    "for no_frames in NO_MAX_FRAMES:\n",
    "    for no_frames_predicted in NO_FRAMES_PREDICTED_AHEAD:\n",
    "        for size in SIZE_FRAGMENT:\n",
    "            train('red', no_frames, no_frames_predicted, size)\n",
    "            train('green', no_frames, no_frames_predicted, size)\n",
    "            train('blue', no_frames, no_frames_predicted, size)"
   ]
  },
  {
   "cell_type": "code",
   "execution_count": null,
   "metadata": {},
   "outputs": [],
   "source": []
  },
  {
   "cell_type": "code",
   "execution_count": null,
   "metadata": {},
   "outputs": [],
   "source": []
  }
 ],
 "metadata": {
  "kernelspec": {
   "display_name": "Python 3",
   "language": "python",
   "name": "python3"
  },
  "language_info": {
   "codemirror_mode": {
    "name": "ipython",
    "version": 3
   },
   "file_extension": ".py",
   "mimetype": "text/x-python",
   "name": "python",
   "nbconvert_exporter": "python",
   "pygments_lexer": "ipython3",
   "version": "3.8.8"
  },
  "toc": {
   "base_numbering": 1,
   "nav_menu": {},
   "number_sections": true,
   "sideBar": true,
   "skip_h1_title": false,
   "title_cell": "Table of Contents",
   "title_sidebar": "Contents",
   "toc_cell": false,
   "toc_position": {},
   "toc_section_display": true,
   "toc_window_display": false
  }
 },
 "nbformat": 4,
 "nbformat_minor": 4
}
